{
 "cells": [
  {
   "cell_type": "code",
   "execution_count": 1,
   "metadata": {
    "scrolled": true
   },
   "outputs": [
    {
     "data": {
      "text/plain": [
       "(300, 80)"
      ]
     },
     "execution_count": 1,
     "metadata": {},
     "output_type": "execute_result"
    }
   ],
   "source": [
    "import numpy as np\n",
    "from utils.audio import *\n",
    "import os\n",
    "\n",
    "n_sample = 5100 #Change n_steps here\n",
    "mel_folder = 'logs-Tacotron' #Or change file path\n",
    "mel_file = 'ljspeech-mel-prediction-step-{}.npy'.format(n_sample) #Or file name (for other generated mels)\n",
    "\n",
    "mel_file = os.path.join(mel_folder, mel_file) \n",
    "mel_spectro = np.load(mel_file)\n",
    "mel_spectro.shape"
   ]
  },
  {
   "cell_type": "code",
   "execution_count": 2,
   "metadata": {
    "collapsed": true
   },
   "outputs": [],
   "source": [
    "wav = inv_mel_spectrogram(mel_spectro.T)\n",
    "save_wav(wav, 'wav_out/test{}.wav'.format(n_sample))"
   ]
  }
 ],
 "metadata": {
  "kernelspec": {
   "display_name": "Python 3",
   "language": "python",
   "name": "python3"
  },
  "language_info": {
   "codemirror_mode": {
    "name": "ipython",
    "version": 3
   },
   "file_extension": ".py",
   "mimetype": "text/x-python",
   "name": "python",
   "nbconvert_exporter": "python",
   "pygments_lexer": "ipython3",
   "version": "3.6.3"
  }
 },
 "nbformat": 4,
 "nbformat_minor": 2
}
